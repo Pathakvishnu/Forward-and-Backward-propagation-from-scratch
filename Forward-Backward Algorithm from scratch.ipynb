{
 "cells": [
  {
   "cell_type": "code",
   "execution_count": 1,
   "id": "c05cd01a",
   "metadata": {},
   "outputs": [],
   "source": [
    "import numpy as np\n",
    "import pandas as pd"
   ]
  },
  {
   "cell_type": "code",
   "execution_count": 55,
   "id": "b35e29e4",
   "metadata": {},
   "outputs": [],
   "source": [
    "inp_dim = 2\n",
    "hidden_dim = 2\n",
    "out_dim = 1"
   ]
  },
  {
   "cell_type": "markdown",
   "id": "5414e638",
   "metadata": {},
   "source": [
    "#### Initialize a network"
   ]
  },
  {
   "cell_type": "code",
   "execution_count": 56,
   "id": "4a8762f2",
   "metadata": {},
   "outputs": [],
   "source": [
    "\n",
    "def initialize_network(n_inputs, n_hidden, n_outputs):\n",
    "    network = list()\n",
    "    hidden_layer = [{'weights':[np.random.rand() for i in range(n_inputs + 1)]} for i in range(n_hidden)]\n",
    "    network.append(hidden_layer)\n",
    "    output_layer = [{'weights':[np.random.rand() for i in range(n_hidden + 1)]} for i in range(n_outputs)]\n",
    "    network.append(output_layer)\n",
    "    return network"
   ]
  },
  {
   "cell_type": "code",
   "execution_count": 57,
   "id": "9bf44f62",
   "metadata": {},
   "outputs": [
    {
     "name": "stdout",
     "output_type": "stream",
     "text": [
      "layer 1 weights [{'weights': [0.35893298249296823, 0.12751404719790382, 0.2931806308922843]}, {'weights': [0.09738219822767868, 0.5554577825110106, 0.2530447863002404]}] \n",
      "\n",
      "layer 2 weights [{'weights': [0.06323017838176448, 0.9896621588700363, 0.7672490588081572]}] \n",
      "\n"
     ]
    }
   ],
   "source": [
    "# shallow neural network\n",
    "shallowNN = initialize_network(inp_dim,hidden_dim,out_dim)\n",
    "for i,layer in enumerate(shallowNN):\n",
    "    print(f\"layer {i+1} weights {layer} \\n\")\n",
    "    "
   ]
  },
  {
   "cell_type": "markdown",
   "id": "ffaae9f0",
   "metadata": {},
   "source": [
    "#### Forward Propogation\n",
    "Divided into 3 steps :\n",
    "1. Activation of the neuron\n",
    "2. Pass the neuron data to next layer\n",
    "3. Assemble all and do forward propogation"
   ]
  },
  {
   "cell_type": "markdown",
   "id": "733ab349",
   "metadata": {},
   "source": [
    "#### Activation of the neuron\n",
    "\n",
    "If we think clearly, calculating a one neuron value (next layer) based on it's last layer inputs is the like the weighted sum of the inputs i.e w<sub>i</sub>* h<sub>l-1</sub> + b "
   ]
  },
  {
   "cell_type": "code",
   "execution_count": 58,
   "id": "953ced3a",
   "metadata": {},
   "outputs": [],
   "source": [
    "def activate(wgts,inputs):\n",
    "    bias = wgts[-1]\n",
    "    activation = 0\n",
    "    for i in range(len(wgts)-1):\n",
    "        activation+=wgts[i]*inputs[i]\n",
    "    activation+=bias\n",
    "    \n",
    "    return activation"
   ]
  },
  {
   "cell_type": "code",
   "execution_count": 59,
   "id": "93e826e2",
   "metadata": {},
   "outputs": [],
   "source": [
    "# random input initialization\n",
    "input_init = []\n",
    "for _ in range(inp_dim):\n",
    "    input_init.append(np.random.rand())\n",
    "\n",
    "# calculating for hidden layer 1\n",
    "output_layer_input = list()\n",
    "for cell in shallowNN[0]:\n",
    "    output_layer_input.append(\n",
    "                                activate(cell['weights']\n",
    "                                ,input_init)\n",
    "                             )"
   ]
  },
  {
   "cell_type": "markdown",
   "id": "76d685d2",
   "metadata": {},
   "source": [
    "#### Neuron data transfer to next layer"
   ]
  },
  {
   "cell_type": "code",
   "execution_count": 60,
   "id": "cefc5f76",
   "metadata": {},
   "outputs": [
    {
     "name": "stdout",
     "output_type": "stream",
     "text": [
      "next layer input is [0.6158594358797047, 0.664506429804911]\n"
     ]
    }
   ],
   "source": [
    "def sigmoid(x):\n",
    "    return 1/(1+np.exp(-x))\n",
    "\n",
    "activation = list(map(lambda k: sigmoid(k),output_layer_input))\n",
    "print(f\"next layer input is {activation}\")"
   ]
  },
  {
   "cell_type": "markdown",
   "id": "611253d8",
   "metadata": {},
   "source": [
    "#### Forward Propogation "
   ]
  },
  {
   "cell_type": "code",
   "execution_count": 61,
   "id": "fdb13740",
   "metadata": {},
   "outputs": [],
   "source": [
    "def forward_propagate(network,inp):\n",
    "    inputs = inp\n",
    "    for layer in network:\n",
    "        new_inputs = []\n",
    "        for neuron in layer:\n",
    "            out = activate(neuron['weights'],inputs)\n",
    "            neuron['output'] = sigmoid(out)\n",
    "            new_inputs.append(neuron['output'])\n",
    "        inputs = new_inputs\n",
    "    return inputs"
   ]
  },
  {
   "cell_type": "code",
   "execution_count": 62,
   "id": "c1434b2b",
   "metadata": {},
   "outputs": [
    {
     "name": "stdout",
     "output_type": "stream",
     "text": [
      "last layer output [0.8121172805875845]\n"
     ]
    }
   ],
   "source": [
    "output = forward_propagate(shallowNN,input_init)\n",
    "print(f\"last layer output {output}\")"
   ]
  },
  {
   "cell_type": "markdown",
   "id": "aa080b88",
   "metadata": {},
   "source": [
    "#### Back Propagation\n",
    "Divided into 2 section:\n",
    "1. Derivative calculation\n",
    "2. Backpropagate the error"
   ]
  },
  {
   "cell_type": "markdown",
   "id": "d2cdf481",
   "metadata": {},
   "source": [
    "#### Derivative Calculation"
   ]
  },
  {
   "cell_type": "code",
   "execution_count": 63,
   "id": "97a8b29b",
   "metadata": {},
   "outputs": [],
   "source": [
    "def calculate_derivative(x):\n",
    "    \"\"\"\n",
    "    d(sigmoid) = x*(1-x)\n",
    "    \"\"\"\n",
    "    return x*(1-x)"
   ]
  },
  {
   "cell_type": "markdown",
   "id": "e695dcfe",
   "metadata": {},
   "source": [
    "#### Backpropagate the error\n",
    "1. calculate the error for each output neuron\n",
    "2. consider above as an input to backpropagate in the network the same way we did for forward propagate.\n",
    "\n",
    "3. err = (out-err)*calculate_derivative(out) --> for last layer\n",
    "4. err = (wgt<sub>k</sub>* err<sub>j</sub>)*calculate_derivative(out) --> for hidden layer\n"
   ]
  },
  {
   "cell_type": "code",
   "execution_count": 74,
   "id": "0dc533ab",
   "metadata": {},
   "outputs": [],
   "source": [
    "def backpropagate(network,expected):\n",
    "    for i in range(len(network)-1,-1,-1):\n",
    "        layer = network[i]\n",
    "        errors = list()\n",
    "        if i==len(network)-1:\n",
    "            for j in range(len(layer)):\n",
    "                neuron = layer[j]\n",
    "                errors.append(neuron['output']-expected[j])\n",
    "        else:\n",
    "            for j in range(len(layer)):\n",
    "                error = 0.0\n",
    "                for neuron in network[i+1]:\n",
    "                    error+=(neuron['weights'][j]*(neuron['delta']))\n",
    "                errors.append(error)\n",
    "        \n",
    "        for j in range(len(layer)):\n",
    "            neuron = layer[j]\n",
    "            neuron['delta'] = errors[j]*calculate_derivative(neuron['output'])\n",
    "    return network"
   ]
  },
  {
   "cell_type": "code",
   "execution_count": 75,
   "id": "ed22546c",
   "metadata": {},
   "outputs": [
    {
     "data": {
      "text/plain": [
       "[[{'weights': [0.35893298249296823, 0.12751404719790382, 0.2931806308922843],\n",
       "   'output': 0.6158594358797047,\n",
       "   'delta': -0.0004288334000987567},\n",
       "  {'weights': [0.09738219822767868, 0.5554577825110106, 0.2530447863002404],\n",
       "   'output': 0.664506429804911,\n",
       "   'delta': -0.006325032774982391}],\n",
       " [{'weights': [0.06323017838176448, 0.9896621588700363, 0.7672490588081572],\n",
       "   'output': 0.8121172805875845,\n",
       "   'delta': -0.02866767199300915}]]"
      ]
     },
     "execution_count": 75,
     "metadata": {},
     "output_type": "execute_result"
    }
   ],
   "source": [
    "backpropagate(shallowNN,[1])"
   ]
  },
  {
   "cell_type": "markdown",
   "id": "92bc8cb0",
   "metadata": {},
   "source": [
    "#### Train the network\n",
    "Let's just use the backprop error to train the network\n",
    "1. Update weights\n",
    "2. Train Network"
   ]
  },
  {
   "cell_type": "code",
   "execution_count": null,
   "id": "7f2cee6a",
   "metadata": {},
   "outputs": [],
   "source": [
    "def update_nn_weights(network, sample, lr):\n",
    "    for i in range(len(network)):\n",
    "        inputs = sample[:-1] #skipping last index b/c its label\n",
    "        if i!=0:\n",
    "            inputs = [neuron['output'] for neuron in network[i-1]]\n",
    "        for neuron in network[i]:\n",
    "            for j in range(len(inputs)):\n",
    "                neuron['weights'][j]-=lr*inputs[j]*neuron['delta']\n",
    "        neuron['weights'][-1]-=lr*neuron['delta']\n",
    "        "
   ]
  },
  {
   "cell_type": "code",
   "execution_count": null,
   "id": "8e1ea42a",
   "metadata": {},
   "outputs": [],
   "source": [
    "## still in progress"
   ]
  },
  {
   "cell_type": "code",
   "execution_count": null,
   "id": "e2c29e78",
   "metadata": {},
   "outputs": [],
   "source": []
  },
  {
   "cell_type": "code",
   "execution_count": null,
   "id": "df3237a7",
   "metadata": {},
   "outputs": [],
   "source": []
  },
  {
   "cell_type": "code",
   "execution_count": null,
   "id": "e06081e3",
   "metadata": {},
   "outputs": [],
   "source": []
  },
  {
   "cell_type": "code",
   "execution_count": null,
   "id": "d49228a4",
   "metadata": {},
   "outputs": [],
   "source": []
  },
  {
   "cell_type": "code",
   "execution_count": null,
   "id": "629c06b9",
   "metadata": {},
   "outputs": [],
   "source": []
  },
  {
   "cell_type": "code",
   "execution_count": null,
   "id": "0c2f327b",
   "metadata": {},
   "outputs": [],
   "source": []
  },
  {
   "cell_type": "code",
   "execution_count": null,
   "id": "b61b2a9a",
   "metadata": {},
   "outputs": [],
   "source": []
  }
 ],
 "metadata": {
  "kernelspec": {
   "display_name": "Python 3",
   "language": "python",
   "name": "python3"
  },
  "language_info": {
   "codemirror_mode": {
    "name": "ipython",
    "version": 3
   },
   "file_extension": ".py",
   "mimetype": "text/x-python",
   "name": "python",
   "nbconvert_exporter": "python",
   "pygments_lexer": "ipython3",
   "version": "3.6.4"
  }
 },
 "nbformat": 4,
 "nbformat_minor": 5
}
